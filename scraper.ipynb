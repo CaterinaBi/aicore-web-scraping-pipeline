{
 "cells": [
  {
   "cell_type": "code",
   "execution_count": null,
   "metadata": {},
   "outputs": [],
   "source": [
    "from selenium import webdriver\n",
    "from selenium.webdriver.common.keys import Keys\n",
    "from selenium.webdriver.common.by import By\n",
    "from selenium.webdriver.support.ui import WebDriverWait\n",
    "from selenium.webdriver.support import expected_conditions as EC\n",
    "from selenium.webdriver.common.action_chains import ActionChains\n",
    "from webdriver_manager.chrome import ChromeDriverManager\n",
    "import time\n",
    "from time import sleep"
   ]
  },
  {
   "cell_type": "markdown",
   "metadata": {},
   "source": [
    "Creates Scraper class:"
   ]
  },
  {
   "cell_type": "code",
   "execution_count": 2,
   "metadata": {},
   "outputs": [],
   "source": [
    "class Scraper:\n",
    "    def __init__(self, url: str = 'https://www.rightmove.co.uk/property-for-sale/find.html?searchType=SALE&locationIdentifier=REGION%5E274&insId=1&radius=10.0&minPrice=&maxPrice=&minBedrooms=&maxBedrooms=&displayPropertyType=&maxDaysSinceAdded=&_includeSSTC=on&sortByPriceDescending=&primaryDisplayPropertyType=&secondaryDisplayPropertyType=&oldDisplayPropertyType=&oldPrimaryDisplayPropertyType=&newHome=&auction=false'):\n",
    "        self.driver = webdriver.Chrome(ChromeDriverManager().install())\n",
    "        self.driver.get(url) # look for all properties for sale within a 10-mila radius from Cambridge, UK\n",
    "        time.sleep(2)\n",
    "\n",
    "    # bypasses cookies\n",
    "    def bypass_cookies(self):\n",
    "        try:\n",
    "            self.accept_cookies_button = self.driver.find_element(By.XPATH, value='//*[@class\"optanon-allow-all accept-cookies-button\"]')\n",
    "            self.accept_cookies_button.click()\n",
    "        except:\n",
    "            pass # passes if there is no cookies button\n",
    "\n",
    "    # creates a crawler\n",
    "    def get_all_properties_in_the_page(self):\n",
    "        # gets the container where all properties are stored\n",
    "        self.property_container = self.driver.find_element(By.XPATH, value='//div[@id=\"l-searchResults\"]')\n",
    "        # gets list of all properties inside the container using <div> tags that are its direct children\n",
    "        self.property_list = self.property_container.find_elements(By.XPATH, value='./div')\n",
    "        # creates empty list of links to all properties\n",
    "        self.all_properties_links_list = []\n",
    "\n",
    "        # populates list\n",
    "        for property in self.property_list:\n",
    "            self.image_tag = property.find_element(By.TAG_NAME, value='img')\n",
    "            self.link = self.image_tag.get_attribute('src')\n",
    "            self.all_properties_links_list.append(self.link)\n",
    "            time.sleep(2)\n",
    "\n",
    "        # prints list of links\n",
    "        print(f'There are {len(self.all_properties_links_list)} properties in this page.')\n",
    "        print(self.all_properties_links_list)\n",
    "\n",
    "    def extract_the_data_into_a_dictionary(self):\n",
    "        pass\n",
    "\n",
    "    def move_to_the_next_page(self):\n",
    "        pass"
   ]
  },
  {
   "cell_type": "markdown",
   "metadata": {},
   "source": []
  }
 ],
 "metadata": {
  "interpreter": {
   "hash": "e166b18db0aadbab4322c18013f324f24dabe01ad5a5651d6f38a0e095ae60e7"
  },
  "kernelspec": {
   "display_name": "Python 3.10.5 ('web-scraping')",
   "language": "python",
   "name": "python3"
  },
  "language_info": {
   "codemirror_mode": {
    "name": "ipython",
    "version": 3
   },
   "file_extension": ".py",
   "mimetype": "text/x-python",
   "name": "python",
   "nbconvert_exporter": "python",
   "pygments_lexer": "ipython3",
   "version": "3.10.5"
  },
  "orig_nbformat": 4
 },
 "nbformat": 4,
 "nbformat_minor": 2
}
