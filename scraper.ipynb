{
 "cells": [
  {
   "cell_type": "code",
   "execution_count": 1,
   "metadata": {},
   "outputs": [],
   "source": [
    "from pyrsistent import s\n",
    "from selenium import webdriver\n",
    "from selenium.webdriver.common.by import By\n",
    "from selenium.webdriver.chrome.service import Service as ChromeService\n",
    "from webdriver_manager.chrome import ChromeDriverManager\n",
    "\n",
    "import time\n",
    "from time import sleep\n",
    "\n",
    "import json\n",
    "import requests\n",
    "import uuid"
   ]
  },
  {
   "cell_type": "code",
   "execution_count": 2,
   "metadata": {},
   "outputs": [
    {
     "name": "stdout",
     "output_type": "stream",
     "text": [
      "\n",
      "---Program initialised.\n"
     ]
    }
   ],
   "source": [
    "driver = webdriver.Chrome(service=ChromeService(ChromeDriverManager().install()))\n",
    "url = 'https://www.rightmove.co.uk/property-for-sale/find.html?searchType=SALE&locationIdentifier=REGION%5E274&insId=1&radius=10.0&minPrice=&maxPrice=&minBedrooms=&maxBedrooms=&displayPropertyType=&maxDaysSinceAdded=&_includeSSTC=on&sortByPriceDescending=&primaryDisplayPropertyType=&secondaryDisplayPropertyType=&oldDisplayPropertyType=&oldPrimaryDisplayPropertyType=&newHome=&auction=false'\n",
    "\n",
    "driver.get(url) # look for all properties for sale within a 10-mile radius from Cambridge, UK\n",
    "time.sleep(2)\n",
    "        \n",
    "page = 0\n",
    "property_number = 0\n",
    "\n",
    "whole_query_property_links = []\n",
    "properties_dict_list = []\n",
    "\n",
    "print('\\n---Program initialised.')"
   ]
  },
  {
   "cell_type": "code",
   "execution_count": null,
   "metadata": {},
   "outputs": [],
   "source": [
    "def bypass_cookies(self):\n",
    "    '''A method that bypasses cookies if present.'''\n",
    "    try:\n",
    "        self.accept_cookies_button = self.driver.find_element(By.XPATH, value='//button[@class=\"optanon-allow-all accept-cookies-button\"]')\n",
    "        self.accept_cookies_button.click()\n",
    "    except:\n",
    "        pass # passes if there is no cookies button\n",
    "    time.sleep(2)"
   ]
  }
 ],
 "metadata": {
  "interpreter": {
   "hash": "e166b18db0aadbab4322c18013f324f24dabe01ad5a5651d6f38a0e095ae60e7"
  },
  "kernelspec": {
   "display_name": "Python 3.10.6 ('web-scraping')",
   "language": "python",
   "name": "python3"
  },
  "language_info": {
   "codemirror_mode": {
    "name": "ipython",
    "version": 3
   },
   "file_extension": ".py",
   "mimetype": "text/x-python",
   "name": "python",
   "nbconvert_exporter": "python",
   "pygments_lexer": "ipython3",
   "version": "3.10.6"
  },
  "orig_nbformat": 4
 },
 "nbformat": 4,
 "nbformat_minor": 2
}
